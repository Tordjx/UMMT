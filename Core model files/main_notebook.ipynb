{
 "cells": [
  {
   "cell_type": "code",
   "execution_count": null,
   "id": "c686baf3-aca7-422b-81a7-ec7c1c776dbb",
   "metadata": {
    "tags": []
   },
   "outputs": [],
   "source": [
    "!pip install matplotlib"
   ]
  },
  {
   "cell_type": "code",
   "execution_count": 27,
   "id": "4f7ee3bb-7c9c-47e3-ae7f-064be78e7002",
   "metadata": {
    "tags": []
   },
   "outputs": [
    {
     "name": "stdout",
     "output_type": "stream",
     "text": [
      "DEBUT_DE_PHRASE\n",
      "FIN_DE_PHRASE\n",
      "TOKEN_VIDE\n",
      "&@@\n",
      "j\n",
      ";@@\n",
      "DEBUT_DE_PHRASE\n",
      "FIN_DE_PHRASE\n",
      "TOKEN_VIDE\n",
      "&@@\n",
      "j\n",
      "ë\n",
      "ë@@\n"
     ]
    }
   ],
   "source": [
    "#%%\n",
    "from Modele_decodeur_maison import *\n",
    "\n",
    "from Pipeline import *\n",
    "from Trainer import * \n",
    "\n",
    "device = torch.device('cuda' if torch.cuda.is_available() else 'cpu')\n",
    "batch_size = 10\n",
    "\n",
    "# Images\n",
    "# images = np.load(\"C:/Users/lucas/Desktop/train-resnet50-res4frelu.npy\")\n",
    "\n",
    "# Texts\n",
    "tokenized_fr,tokenized_en, vocab_fr,vocab_en = get_train_data_nouveau()\n",
    "n_token_fr = len(vocab_fr.keys())\n",
    "n_token_en = len(vocab_en.keys())\n",
    "\n",
    "inv_map_en = {v: k for k, v in vocab_en.items()}\n",
    "inv_map_fr = {v: k for k, v in vocab_fr.items()}\n",
    "\n",
    "n_head = 4 \n",
    "num_encoder_layers = 2\n",
    "num_decoder_layers = 2\n",
    "dim_feedforward = 196\n",
    "dropout = 0.1\n",
    "activation = nn.Softmax\n",
    "embedding_dim = 196\n",
    "\n",
    "model_fr = Modèle(n_token_fr,embedding_dim,n_head, num_encoder_layers,num_decoder_layers,dim_feedforward,dropout,activation).to(device)\n",
    "\n",
    "model_en = Modèle(n_token_en,embedding_dim,n_head, num_encoder_layers,num_decoder_layers,dim_feedforward,dropout,activation).to(device)\n",
    "\n",
    "\n",
    "\n"
   ]
  },
  {
   "cell_type": "code",
   "execution_count": 28,
   "id": "d493cdfe-c6fe-42b4-9f7a-e89c4df97f76",
   "metadata": {
    "tags": []
   },
   "outputs": [
    {
     "name": "stdout",
     "output_type": "stream",
     "text": [
      "Iteration : 0 data numéro : 200 en 58 ms par itération, moyenne loss 3.2998141229152678\n"
     ]
    },
    {
     "ename": "KeyboardInterrupt",
     "evalue": "",
     "output_type": "error",
     "traceback": [
      "\u001b[0;31m---------------------------------------------------------------------------\u001b[0m",
      "\u001b[0;31mKeyboardInterrupt\u001b[0m                         Traceback (most recent call last)",
      "Cell \u001b[0;32mIn[28], line 4\u001b[0m\n\u001b[1;32m      1\u001b[0m \u001b[38;5;66;03m# Y=train_auto_encoding(model_fr,tokenized_fr)\u001b[39;00m\n\u001b[1;32m      2\u001b[0m \u001b[38;5;66;03m# Y=train_auto_encoding(model_en,tokenized_en)\u001b[39;00m\n\u001b[1;32m      3\u001b[0m \u001b[38;5;66;03m# Y= cycle_consistency_train(model_fr,model_en,tokenized_fr,tokenized_en)\u001b[39;00m\n\u001b[0;32m----> 4\u001b[0m \u001b[43mmixed_train\u001b[49m\u001b[43m(\u001b[49m\u001b[43mmodel_fr\u001b[49m\u001b[43m,\u001b[49m\u001b[43mmodel_en\u001b[49m\u001b[43m,\u001b[49m\u001b[43mtokenized_fr\u001b[49m\u001b[43m,\u001b[49m\u001b[43mtokenized_en\u001b[49m\u001b[43m,\u001b[49m\u001b[38;5;241;43m200\u001b[39;49m\u001b[43m,\u001b[49m\u001b[38;5;241;43m50\u001b[39;49m\u001b[43m)\u001b[49m\n",
      "File \u001b[0;32m~/work/ummt/Core model files/Trainer.py:179\u001b[0m, in \u001b[0;36mmixed_train\u001b[0;34m(model_fr, model_en, train_data_fr, train_data_en, n_iter, batch_size)\u001b[0m\n\u001b[1;32m    177\u001b[0m         train_data\u001b[38;5;241m=\u001b[39m get_batch(train_data_fr,i)\n\u001b[1;32m    178\u001b[0m         model_A \u001b[38;5;241m=\u001b[39m model_fr\n\u001b[0;32m--> 179\u001b[0m     loss \u001b[38;5;241m=\u001b[39m auto_encoding_train(model_A,train_data)\n\u001b[1;32m    180\u001b[0m loss_list\u001b[38;5;241m.\u001b[39mappend(loss)\n\u001b[1;32m    181\u001b[0m total_loss\u001b[38;5;241m+\u001b[39m\u001b[38;5;241m=\u001b[39mloss\n",
      "File \u001b[0;32m~/work/ummt/Core model files/Trainer.py:60\u001b[0m, in \u001b[0;36mauto_encoding_train\u001b[0;34m(model, train_data)\u001b[0m\n\u001b[1;32m     58\u001b[0m loss \u001b[38;5;241m=\u001b[39m model\u001b[38;5;241m.\u001b[39mcriterion(output\u001b[38;5;241m.\u001b[39mmT,target)\n\u001b[1;32m     59\u001b[0m model\u001b[38;5;241m.\u001b[39moptimizer\u001b[38;5;241m.\u001b[39mzero_grad()\n\u001b[0;32m---> 60\u001b[0m \u001b[43mloss\u001b[49m\u001b[38;5;241;43m.\u001b[39;49m\u001b[43mbackward\u001b[49m\u001b[43m(\u001b[49m\u001b[43m)\u001b[49m\n\u001b[1;32m     61\u001b[0m torch\u001b[38;5;241m.\u001b[39mnn\u001b[38;5;241m.\u001b[39mutils\u001b[38;5;241m.\u001b[39mclip_grad_norm_(model\u001b[38;5;241m.\u001b[39mparameters(), \u001b[38;5;241m0.5\u001b[39m)\n\u001b[1;32m     62\u001b[0m model\u001b[38;5;241m.\u001b[39moptimizer\u001b[38;5;241m.\u001b[39mstep()\n",
      "File \u001b[0;32m/opt/mamba/lib/python3.10/site-packages/torch/_tensor.py:488\u001b[0m, in \u001b[0;36mTensor.backward\u001b[0;34m(self, gradient, retain_graph, create_graph, inputs)\u001b[0m\n\u001b[1;32m    478\u001b[0m \u001b[38;5;28;01mif\u001b[39;00m has_torch_function_unary(\u001b[38;5;28mself\u001b[39m):\n\u001b[1;32m    479\u001b[0m     \u001b[38;5;28;01mreturn\u001b[39;00m handle_torch_function(\n\u001b[1;32m    480\u001b[0m         Tensor\u001b[38;5;241m.\u001b[39mbackward,\n\u001b[1;32m    481\u001b[0m         (\u001b[38;5;28mself\u001b[39m,),\n\u001b[0;32m   (...)\u001b[0m\n\u001b[1;32m    486\u001b[0m         inputs\u001b[38;5;241m=\u001b[39minputs,\n\u001b[1;32m    487\u001b[0m     )\n\u001b[0;32m--> 488\u001b[0m \u001b[43mtorch\u001b[49m\u001b[38;5;241;43m.\u001b[39;49m\u001b[43mautograd\u001b[49m\u001b[38;5;241;43m.\u001b[39;49m\u001b[43mbackward\u001b[49m\u001b[43m(\u001b[49m\n\u001b[1;32m    489\u001b[0m \u001b[43m    \u001b[49m\u001b[38;5;28;43mself\u001b[39;49m\u001b[43m,\u001b[49m\u001b[43m \u001b[49m\u001b[43mgradient\u001b[49m\u001b[43m,\u001b[49m\u001b[43m \u001b[49m\u001b[43mretain_graph\u001b[49m\u001b[43m,\u001b[49m\u001b[43m \u001b[49m\u001b[43mcreate_graph\u001b[49m\u001b[43m,\u001b[49m\u001b[43m \u001b[49m\u001b[43minputs\u001b[49m\u001b[38;5;241;43m=\u001b[39;49m\u001b[43minputs\u001b[49m\n\u001b[1;32m    490\u001b[0m \u001b[43m\u001b[49m\u001b[43m)\u001b[49m\n",
      "File \u001b[0;32m/opt/mamba/lib/python3.10/site-packages/torch/autograd/__init__.py:197\u001b[0m, in \u001b[0;36mbackward\u001b[0;34m(tensors, grad_tensors, retain_graph, create_graph, grad_variables, inputs)\u001b[0m\n\u001b[1;32m    192\u001b[0m     retain_graph \u001b[38;5;241m=\u001b[39m create_graph\n\u001b[1;32m    194\u001b[0m \u001b[38;5;66;03m# The reason we repeat same the comment below is that\u001b[39;00m\n\u001b[1;32m    195\u001b[0m \u001b[38;5;66;03m# some Python versions print out the first line of a multi-line function\u001b[39;00m\n\u001b[1;32m    196\u001b[0m \u001b[38;5;66;03m# calls in the traceback and some print out the last line\u001b[39;00m\n\u001b[0;32m--> 197\u001b[0m \u001b[43mVariable\u001b[49m\u001b[38;5;241;43m.\u001b[39;49m\u001b[43m_execution_engine\u001b[49m\u001b[38;5;241;43m.\u001b[39;49m\u001b[43mrun_backward\u001b[49m\u001b[43m(\u001b[49m\u001b[43m  \u001b[49m\u001b[38;5;66;43;03m# Calls into the C++ engine to run the backward pass\u001b[39;49;00m\n\u001b[1;32m    198\u001b[0m \u001b[43m    \u001b[49m\u001b[43mtensors\u001b[49m\u001b[43m,\u001b[49m\u001b[43m \u001b[49m\u001b[43mgrad_tensors_\u001b[49m\u001b[43m,\u001b[49m\u001b[43m \u001b[49m\u001b[43mretain_graph\u001b[49m\u001b[43m,\u001b[49m\u001b[43m \u001b[49m\u001b[43mcreate_graph\u001b[49m\u001b[43m,\u001b[49m\u001b[43m \u001b[49m\u001b[43minputs\u001b[49m\u001b[43m,\u001b[49m\n\u001b[1;32m    199\u001b[0m \u001b[43m    \u001b[49m\u001b[43mallow_unreachable\u001b[49m\u001b[38;5;241;43m=\u001b[39;49m\u001b[38;5;28;43;01mTrue\u001b[39;49;00m\u001b[43m,\u001b[49m\u001b[43m \u001b[49m\u001b[43maccumulate_grad\u001b[49m\u001b[38;5;241;43m=\u001b[39;49m\u001b[38;5;28;43;01mTrue\u001b[39;49;00m\u001b[43m)\u001b[49m\n",
      "\u001b[0;31mKeyboardInterrupt\u001b[0m: "
     ]
    }
   ],
   "source": [
    "\n",
    "# Y=train_auto_encoding(model_fr,tokenized_fr)\n",
    "# Y=train_auto_encoding(model_en,tokenized_en)\n",
    "# Y= cycle_consistency_train(model_fr,model_en,tokenized_fr,tokenized_en)\n",
    "mixed_train(model_fr,model_en,tokenized_fr,tokenized_en,200,50)\n",
    "\n"
   ]
  },
  {
   "cell_type": "code",
   "execution_count": 22,
   "id": "927b652e-793c-439a-9d27-a9a65e88d9d1",
   "metadata": {},
   "outputs": [
    {
     "name": "stdout",
     "output_type": "stream",
     "text": [
      "Phrase à traduire : \n",
      "rTOKEN_VIDE some TOKEN_VIDE \n",
      " Phrase traduite : \n",
      " deux TOKEN_VIDE eTOKEN_VIDE en TOKEN_VIDE garçon TOKEN_VIDE TOKEN_VIDE TOKEN_VIDE lTOKEN_VIDE TOKEN_VIDE TOKEN_VIDE TOKEN_VIDE TOKEN_VIDE TOKEN_VIDE TOKEN_VIDE TOKEN_VIDE TOKEN_VIDE TOKEN_VIDE TOKEN_VIDE TOKEN_VIDE TOKEN_VIDE TOKEN_VIDE TOKEN_VIDE TOKEN_VIDE TOKEN_VIDE d&apos; TOKEN_VIDE a TOKEN_VIDE chiens TOKEN_VIDE un TOKEN_VIDE TOKEN_VIDE train TOKEN_VIDE en TOKEN_VIDE TOKEN_VIDE TOKEN_VIDE à TOKEN_VIDE TOKEN_VIDE TOKEN_VIDE TOKEN_VIDE TOKEN_VIDE TOKEN_VIDE TOKEN_VIDE TOKEN_VIDE TOKEN_VIDE TOKEN_VIDE TOKEN_VIDE TOKEN_VIDE TOKEN_VIDE TOKEN_VIDE ie TOKEN_VIDE sTOKEN_VIDE dans TOKEN_VIDE aux TOKEN_VIDE ballon TOKEN_VIDE bleu TOKEN_VIDE rier TOKEN_VIDE a TOKEN_VIDE gTOKEN_VIDE TOKEN_VIDE TOKEN_VIDE TOKEN_VIDE TOKEN_VIDE TOKEN_VIDE TOKEN_VIDE TOKEN_VIDE TOKEN_VIDE TOKEN_VIDE TOKEN_VIDE TOKEN_VIDE TOKEN_VIDE TOKEN_VIDE tTOKEN_VIDE dans TOKEN_VIDE s-TOKEN_VIDE \n"
     ]
    }
   ],
   "source": [
    "#%%\n",
    "def tensor_to_sentence(output,inv_dic):\n",
    "    result = [inv_dic[int(x)] for x in output]\n",
    "    sentence = \"\"\n",
    "    for word in result : \n",
    "        if word == \"DEBUT_DE_PHRASE\" :\n",
    "            pass\n",
    "        elif '@@' in word: \n",
    "            sentence+=word[:-2]\n",
    "        elif word == \"FIN_DE_PHRASE\" :\n",
    "            break \n",
    "        else :\n",
    "            sentence+=word +\" \"\n",
    "    return sentence\n",
    "\n",
    "def traduit(model_A,model_B,data, inv_map):\n",
    "    model_en.eval()\n",
    "    model_fr.eval()\n",
    "    output = torch.argmax(cycle_consistent_forward(model_A,model_B,data),dim = 2).T[j].T\n",
    "    return tensor_to_sentence(output.view(-1),inv_map)\n",
    "\n",
    "i = np.random.randint(len(tokenized_en)//50)\n",
    "j = np.random.randint(50)\n",
    "data,target = get_batch(tokenized_en, i)\n",
    "\n",
    "print(\"Phrase à traduire : \\n\" + tensor_to_sentence(target.T[j],inv_map_en)+ \"\\n Phrase traduite : \\n \"+ traduit(model_en,model_fr,data, inv_map_fr))\n",
    "\n",
    "\n",
    "#%%"
   ]
  },
  {
   "cell_type": "code",
   "execution_count": 26,
   "id": "6892fb45-d881-452f-9c11-bbc58ef9450c",
   "metadata": {
    "tags": []
   },
   "outputs": [
    {
     "data": {
      "text/plain": [
       "tensor([[5830,    0,   29,  ..., 5832, 5832, 5832],\n",
       "        [5832, 5832, 5832,  ..., 5830,    0,   10],\n",
       "        [  32,    9,   39,  ..., 5832, 5832, 5832],\n",
       "        ...,\n",
       "        [5832, 5832, 5832,  ..., 5832, 5832, 5832],\n",
       "        [5832, 5832, 5832,  ..., 5832, 5832, 5832],\n",
       "        [5832, 5832, 5832,  ..., 5832, 5832, 5832]], device='cuda:0')"
      ]
     },
     "execution_count": 26,
     "metadata": {},
     "output_type": "execute_result"
    }
   ],
   "source": [
    "i = np.random.randint(len(tokenized_en)//50)\n",
    "j = np.random.randint(50)\n",
    "data,target = get_batch(tokenized_en, i)\n",
    "target\n",
    "VALENTIN IL FAUT ABSOLUMENT QUE TU REGLE LE PROBLEME DU BATCHIFYER : LES DIMENSIONS SONT BONNES MAIS CEST NIMPORT QUOI LES DONENEES"
   ]
  },
  {
   "cell_type": "code",
   "execution_count": 32,
   "id": "80c92b83-a88f-4726-ab34-51cdcca149d8",
   "metadata": {
    "tags": []
   },
   "outputs": [
    {
     "data": {
      "text/plain": [
       "tensor([6572,    0,   31,    3,   22,  725,    0,  549,    6,   29,  144,    1,\n",
       "        6573, 6574, 6574, 6574, 6574, 6574, 6574, 6574, 6574, 6574, 6574, 6574,\n",
       "        6574, 6574, 6574, 6574, 6574, 6574, 6574, 6574, 6574, 6574, 6574, 6574,\n",
       "        6574, 6574, 6574, 6574, 6574, 6574, 6574, 6574, 6574, 6574, 6574, 6574,\n",
       "        6574, 6574, 6574, 6574, 6574, 6574, 6574, 6574, 6574, 6574, 6574, 6574,\n",
       "        6574, 6574, 6574, 6574, 6574, 6574, 6574, 6574, 6574, 6574, 6574, 6574,\n",
       "        6574, 6574, 6574, 6574, 6574, 6574, 6574, 6574, 6574, 6574, 6574, 6574,\n",
       "        6574, 6574, 6574, 6574, 6574, 6574, 6574, 6574, 6574, 6574, 6574, 6574,\n",
       "        6574], device='cuda:0')"
      ]
     },
     "execution_count": 32,
     "metadata": {},
     "output_type": "execute_result"
    }
   ],
   "source": [
    "tokenized_fr[500]"
   ]
  },
  {
   "cell_type": "code",
   "execution_count": null,
   "id": "2604d4a2-4579-4027-a9be-42ba3d74eca6",
   "metadata": {
    "tags": []
   },
   "outputs": [],
   "source": [
    "import os\n",
    "\n",
    "import s3fs\n",
    "import pandas\n",
    "# Create filesystem object\n",
    "S3_ENDPOINT_URL = \"https://\" + os.environ[\"AWS_S3_ENDPOINT\"]\n",
    "fs = s3fs.S3FileSystem(client_kwargs={'endpoint_url': S3_ENDPOINT_URL})\n",
    "\n",
    "val_features  = np.load(fs.open('tordjx/val-resnet50-res4frelu.npy'))\n",
    "train_features  = np.load(fs.open('tordjx/train-resnet50-res4frelu.npy'))"
   ]
  },
  {
   "cell_type": "code",
   "execution_count": null,
   "id": "5733e3e2-1424-4b70-88a4-91ac7982fa1d",
   "metadata": {
    "tags": []
   },
   "outputs": [],
   "source": [
    "text_input = batchify(tokenized_fr[0],device)\n",
    "image_input = torch.from_numpy(train_features[0]).type(torch.float32).to(device)\n",
    "model_fr(text_input, True,image_input)"
   ]
  }
 ],
 "metadata": {
  "kernelspec": {
   "display_name": "Python 3 (ipykernel)",
   "language": "python",
   "name": "python3"
  },
  "language_info": {
   "codemirror_mode": {
    "name": "ipython",
    "version": 3
   },
   "file_extension": ".py",
   "mimetype": "text/x-python",
   "name": "python",
   "nbconvert_exporter": "python",
   "pygments_lexer": "ipython3",
   "version": "3.10.8"
  }
 },
 "nbformat": 4,
 "nbformat_minor": 5
}
