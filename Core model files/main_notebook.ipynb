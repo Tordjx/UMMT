{
 "cells": [
  {
   "cell_type": "code",
   "execution_count": 1,
   "id": "efb10bae-68df-4d91-9e10-2cecaf169e71",
   "metadata": {},
   "outputs": [
    {
     "name": "stdout",
     "output_type": "stream",
     "text": [
      "Requirement already satisfied: matplotlib in /opt/mamba/lib/python3.10/site-packages (3.7.1)\n",
      "Requirement already satisfied: cycler>=0.10 in /opt/mamba/lib/python3.10/site-packages (from matplotlib) (0.11.0)\n",
      "Requirement already satisfied: contourpy>=1.0.1 in /opt/mamba/lib/python3.10/site-packages (from matplotlib) (1.0.7)\n",
      "Requirement already satisfied: numpy>=1.20 in /opt/mamba/lib/python3.10/site-packages (from matplotlib) (1.24.2)\n",
      "Requirement already satisfied: pillow>=6.2.0 in /opt/mamba/lib/python3.10/site-packages (from matplotlib) (9.4.0)\n",
      "Requirement already satisfied: pyparsing>=2.3.1 in /opt/mamba/lib/python3.10/site-packages (from matplotlib) (3.0.9)\n",
      "Requirement already satisfied: packaging>=20.0 in /opt/mamba/lib/python3.10/site-packages (from matplotlib) (23.0)\n",
      "Requirement already satisfied: python-dateutil>=2.7 in /opt/mamba/lib/python3.10/site-packages (from matplotlib) (2.8.2)\n",
      "Requirement already satisfied: fonttools>=4.22.0 in /opt/mamba/lib/python3.10/site-packages (from matplotlib) (4.39.2)\n",
      "Requirement already satisfied: kiwisolver>=1.0.1 in /opt/mamba/lib/python3.10/site-packages (from matplotlib) (1.4.4)\n",
      "Requirement already satisfied: six>=1.5 in /opt/mamba/lib/python3.10/site-packages (from python-dateutil>=2.7->matplotlib) (1.16.0)\n"
     ]
    }
   ],
   "source": [
    "!pip install matplotlib\n",
    "#mc cp s3/tordjx ummt --recursive"
   ]
  },
  {
   "cell_type": "code",
   "execution_count": 2,
   "id": "4f7ee3bb-7c9c-47e3-ae7f-064be78e7002",
   "metadata": {
    "tags": []
   },
   "outputs": [],
   "source": [
    "#%%\n",
    "from Modele_decodeur_maison import *\n",
    "from Pipeline import *\n",
    "from Trainer import * \n",
    "\n",
    "device = torch.device('cuda' if torch.cuda.is_available() else 'cpu')\n",
    "batch_size = 50\n",
    "\n",
    "# Texts\n",
    "tokenized_fr,tokenized_en, vocab_fr,vocab_en = get_train_data_nouveau(batch_size)\n",
    "n_token_fr = len(vocab_fr.keys())\n",
    "n_token_en = len(vocab_en.keys())\n",
    "\n",
    "inv_map_en = {v: k for k, v in vocab_en.items()}\n",
    "inv_map_fr = {v: k for k, v in vocab_fr.items()}\n",
    "\n",
    "n_head = 4 \n",
    "num_encoder_layers = 2\n",
    "num_decoder_layers = 2\n",
    "dim_feedforward = 196\n",
    "dropout = 0.1\n",
    "activation = nn.Softmax(dim=2)\n",
    "embedding_dim = 196\n",
    "\n",
    "model_fr = Modèle(n_token_fr,embedding_dim,n_head, num_encoder_layers,num_decoder_layers,dim_feedforward,dropout,activation,vocab_fr[\"TOKEN_VIDE\"]).to(device)\n",
    "model_en = Modèle(n_token_en,embedding_dim,n_head, num_encoder_layers,num_decoder_layers,dim_feedforward,dropout,activation,vocab_en[\"TOKEN_VIDE\"]).to(device)\n",
    "\n",
    "#IF WE WANT TO LOAD PREVIOUSLY TRAINED MODEL\n",
    "# model_en.load_state_dict(torch.load(\"model_en\"))\n",
    "# model_fr.load_state_dict(torch.load(\"model_fr\"))"
   ]
  },
  {
   "cell_type": "code",
   "execution_count": 3,
   "id": "2604d4a2-4579-4027-a9be-42ba3d74eca6",
   "metadata": {
    "tags": []
   },
   "outputs": [],
   "source": [
    "# val_features  = np.load(fs.open('tordjx/val-resnet50-res4frelu.npy'))\n",
    "# train_features  = np.load(fs.open('tordjx/train-resnet50-res4frelu.npy'))\n",
    "# val_features = np.load(\"C:/Users/lucas/Desktop/val-resnet50-res4frelu.npy\")\n",
    "# val_features = np.load(\"C:/Users/lucas/Desktop/val-resnet50-res4frelu.npy\")\n",
    "train_features  = np.load(\"tordjx/train-resnet50-res4frelu.npy\")\n",
    "val_features = np.load(\"tordjx/val-resnet50-res4frelu.npy\")"
   ]
  },
  {
   "cell_type": "code",
   "execution_count": 4,
   "id": "033da8a6-1d98-4eea-be9a-ba67221f6780",
   "metadata": {
    "tags": []
   },
   "outputs": [
    {
     "data": {
      "text/plain": [
       "[<matplotlib.lines.Line2D at 0x7ff5d3ac55d0>]"
      ]
     },
     "execution_count": 4,
     "metadata": {},
     "output_type": "execute_result"
    },
    {
     "data": {
      "image/png": "[encoded data removed]",
      "text/plain": [
       "<Figure size 640x480 with 1 Axes>"
      ]
     },
     "metadata": {},
     "output_type": "display_data"
    }
   ],
   "source": [
    "plt.plot(model_fr.loss_list)\n",
    "plt.plot(model_en.loss_list)"
   ]
  },
  {
   "cell_type": "code",
   "execution_count": null,
   "id": "d493cdfe-c6fe-42b4-9f7a-e89c4df97f76",
   "metadata": {
    "tags": []
   },
   "outputs": [
    {
     "name": "stdout",
     "output_type": "stream",
     "text": [
      "9.937158584594727\n",
      "9.173402786254883\n",
      "2.9514882564544678\n",
      "5.65503454208374\n",
      "2.8521502017974854\n",
      "7.114155292510986\n",
      "2.3206892013549805\n",
      "2.830540418624878\n",
      "2.1921486854553223\n",
      "2.4780237674713135\n",
      "4.919887065887451\n",
      "2.084855318069458\n",
      "1.8320128917694092\n",
      "1.896490216255188\n",
      "1.8222410678863525\n",
      "1.5847349166870117\n",
      "1.5835928916931152\n",
      "1.6811456680297852\n",
      "1.539656639099121\n",
      "1.5710735321044922\n",
      "1.4917492866516113\n",
      "1.624557614326477\n",
      "1.3768024444580078\n",
      "1.3879551887512207\n",
      "1.288637399673462\n",
      "1.5589174032211304\n",
      "1.3900046348571777\n",
      "1.3051282167434692\n",
      "1.2622437477111816\n",
      "1.476199984550476\n",
      "1.1795616149902344\n",
      "1.259570837020874\n",
      "1.3936980962753296\n",
      "1.1685658693313599\n",
      "1.2545620203018188\n",
      "1.1459248065948486\n",
      "1.199126124382019\n",
      "1.173963189125061\n",
      "1.0807256698608398\n",
      "0.9884935021400452\n",
      "1.1487767696380615\n",
      "Iteration : 0 batch numéro : 40 en 832 ms par itération, moyenne loss 1.9035129272937774\n",
      "0.9585784673690796\n",
      "1.0642293691635132\n",
      "0.8654821515083313\n",
      "0.8394630551338196\n",
      "1.076385259628296\n",
      "1.1546993255615234\n",
      "1.0563398599624634\n",
      "0.8245854377746582\n",
      "0.8655139803886414\n",
      "0.9561141729354858\n",
      "0.8977515697479248\n",
      "0.8039954900741577\n",
      "0.8152462840080261\n",
      "0.9147712588310242\n",
      "0.8098509311676025\n",
      "0.7962692975997925\n",
      "0.7682517766952515\n",
      "0.7370468974113464\n",
      "0.7628700137138367\n",
      "0.777678906917572\n",
      "0.673903226852417\n",
      "0.8141077756881714\n",
      "0.8474258184432983\n",
      "0.7064133286476135\n",
      "0.7338165640830994\n",
      "0.6922134757041931\n",
      "0.8410826325416565\n",
      "0.7773929238319397\n",
      "0.6899070143699646\n",
      "0.6679788827896118\n",
      "0.7057702541351318\n",
      "0.652106523513794\n",
      "0.7191691994667053\n",
      "0.6850798726081848\n",
      "0.6273655891418457\n",
      "0.5463494658470154\n",
      "0.6870428919792175\n",
      "0.5864686965942383\n",
      "0.739335298538208\n",
      "0.561630129814148\n",
      "0.7177499532699585\n",
      "0.5294978618621826\n",
      "0.5803338885307312\n",
      "0.6683374643325806\n",
      "0.66910320520401\n",
      "0.607046365737915\n",
      "0.5490913391113281\n",
      "0.6178560256958008\n",
      "0.5306233167648315\n",
      "0.5479746460914612\n",
      "Iteration : 0 batch numéro : 90 en 954 ms par itération, moyenne loss 0.754345942735672\n",
      "0.5853594541549683\n",
      "0.6009513139724731\n",
      "0.4740186929702759\n",
      "0.44976910948753357\n",
      "0.5852829813957214\n",
      "0.5471836924552917\n",
      "0.48901548981666565\n",
      "0.5094749927520752\n",
      "0.5343277454376221\n",
      "0.419242799282074\n",
      "0.4759267270565033\n",
      "0.5180203318595886\n",
      "0.4645974040031433\n",
      "0.4403931796550751\n",
      "0.5827725529670715\n",
      "0.5747361779212952\n",
      "0.606969952583313\n",
      "0.5535630583763123\n",
      "0.5240185260772705\n",
      "0.5290359258651733\n",
      "0.4971584975719452\n",
      "0.46167516708374023\n",
      "0.41636592149734497\n",
      "0.4524366855621338\n",
      "0.4329698979854584\n",
      "0.41936543583869934\n",
      "0.37739214301109314\n",
      "0.4377748966217041\n",
      "0.37278130650520325\n",
      "0.4153284728527069\n",
      "0.4171985387802124\n",
      "0.485899955034256\n",
      "0.3809202015399933\n",
      "0.38204795122146606\n",
      "0.40127062797546387\n",
      "0.332204133272171\n",
      "0.39078372716903687\n",
      "0.37155500054359436\n",
      "0.38568609952926636\n"
     ]
    }
   ],
   "source": [
    "\n",
    "train_features_reshape= torch.from_numpy(train_features.reshape(train_features.shape[0]//batch_size ,batch_size ,1024, 196)).to(dtype = torch.float32)\n",
    "#Est ce que cette commande est réellement safe ? Demander !\n",
    "train_data_fr = [tokenized_fr, train_features_reshape]\n",
    "train_data_en = [tokenized_en, train_features_reshape]\n",
    "# Y=train_auto_encoding(model_fr,tokenized_fr)\n",
    "# Y=train_auto_encoding(model_en,tokenized_en)\n",
    "# Y= cycle_consistency_train(model_fr,model_en,tokenized_fr,tokenized_en)\n",
    "mixed_train(model_fr,model_en,train_data_fr,train_data_en,200,50, True,[1,0])\n"
   ]
  },
  {
   "cell_type": "code",
   "execution_count": null,
   "id": "927b652e-793c-439a-9d27-a9a65e88d9d1",
   "metadata": {},
   "outputs": [],
   "source": [
    "#%%\n",
    "def tensor_to_sentence(output,inv_dic):\n",
    "    result = [inv_dic[int(x)] for x in output]\n",
    "    sentence = \"\"\n",
    "    for word in result : \n",
    "        if word == \"DEBUT_DE_PHRASE\" :\n",
    "            pass\n",
    "        elif '@@' in word: \n",
    "            sentence+=word[:-2]\n",
    "        elif word == \"FIN_DE_PHRASE\" :\n",
    "            break \n",
    "        else :\n",
    "            sentence+=word +\" \"\n",
    "    return sentence\n",
    "\n",
    "def traduit(model_A,model_B,data, inv_map):\n",
    "    model_en.eval()\n",
    "    model_fr.eval()\n",
    "    output = torch.argmax(cycle_consistent_forward(model_A,model_B,data),dim = 2)[j]\n",
    "    return tensor_to_sentence(output.view(-1),inv_map)\n",
    "\n",
    "i = np.random.randint(len(tokenized_en)//50)\n",
    "j = np.random.randint(50)\n",
    "data,target = get_batch(tokenized_en, i)\n",
    "\n",
    "print(\"Phrase à traduire : \\n\" + tensor_to_sentence(target[j],inv_map_en)+ \"\\n Phrase traduite : \\n \"+ traduit(model_en,model_fr,data, inv_map_fr))\n",
    "\n",
    "\n",
    "#%%"
   ]
  },
  {
   "cell_type": "code",
   "execution_count": null,
   "id": "8af80f3d-53f1-4fe7-9aa1-1868350791a3",
   "metadata": {
    "tags": []
   },
   "outputs": [],
   "source": [
    "torch.save(model_fr.state_dict(), \"model_fr\")\n",
    "torch.save(model_en.state_dict(), \"model_en\")\n",
    "import os\n",
    "import s3fs\n",
    "import pandas\n",
    "# Create filesystem object\n",
    "S3_ENDPOINT_URL = \"https://\" + os.environ[\"AWS_S3_ENDPOINT\"]\n",
    "fs = s3fs.S3FileSystem(client_kwargs={'endpoint_url': S3_ENDPOINT_URL})\n",
    "fs.upload(\"model_fr\",\"tordjx/model_fr\")\n",
    "fs.upload(\"model_en\",\"tordjx/model_fr\")"
   ]
  },
  {
   "cell_type": "code",
   "execution_count": null,
   "id": "b5fe1d23-b347-4a5c-9876-a53abce52e4e",
   "metadata": {
    "tags": []
   },
   "outputs": [],
   "source": [
    "data ,_= get_batch(tokenized_fr, 0 )\n",
    "model_fr(data)"
   ]
  }
 ],
 "metadata": {
  "kernelspec": {
   "display_name": "Python 3 (ipykernel)",
   "language": "python",
   "name": "python3"
  },
  "language_info": {
   "codemirror_mode": {
    "name": "ipython",
    "version": 3
   },
   "file_extension": ".py",
   "mimetype": "text/x-python",
   "name": "python",
   "nbconvert_exporter": "python",
   "pygments_lexer": "ipython3",
   "version": "3.10.9"
  }
 },
 "nbformat": 4,
 "nbformat_minor": 5
}
