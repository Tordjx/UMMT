{
 "cells": [
  {
   "cell_type": "code",
   "execution_count": 1,
   "id": "efb10bae-68df-4d91-9e10-2cecaf169e71",
   "metadata": {
    "tags": []
   },
   "outputs": [],
   "source": [
    "!pip install matplotlib --quiet\n",
    "!pip install livelossplot --quiet\n",
    "!pip install nltk --quiet\n",
    "#mc cp s3/tordjx ummt/Core*model*files --recursive\n",
    "# watch -n 0.5 nvidia-smi\n"
   ]
  },
  {
   "cell_type": "code",
   "execution_count": 5,
   "id": "4f7ee3bb-7c9c-47e3-ae7f-064be78e7002",
   "metadata": {
    "tags": []
   },
   "outputs": [],
   "source": [
    "#%%\n",
    "from Modele_decodeur_maison import *\n",
    "from Pipeline import *\n",
    "from Trainer import * \n",
    "from greedy_beam_search import *\n",
    "device = torch.device('cuda' if torch.cuda.is_available() else 'cpu')\n",
    "batch_size = 16\n",
    "\n",
    "# Texts\n",
    "tokenized_fr,tokenized_en, vocab_fr,vocab_en = get_train_data_nouveau(batch_size,True)\n",
    "tokenized_val_fr,tokenized_val_en, _,_ = get_train_data_nouveau(batch_size,False)\n",
    "#Data non batchés\n",
    "n_token_fr = len(vocab_fr.keys())\n",
    "n_token_en = len(vocab_en.keys())\n",
    "\n",
    "inv_map_en = {v: k for k, v in vocab_en.items()}\n",
    "inv_map_fr = {v: k for k, v in vocab_fr.items()}\n",
    "\n",
    "n_head =4 \n",
    "num_encoder_layers = 4\n",
    "num_decoder_layers = 4\n",
    "dim_feedforward = 1024\n",
    "dropout = 0.1\n",
    "activation = nn.Softmax(dim=2)\n",
    "embedding_dim = 512\n",
    "\n",
    "model_fr = Modèle(n_token_fr,embedding_dim,n_head, num_encoder_layers,num_decoder_layers,dim_feedforward,dropout,activation,vocab_fr[\"TOKEN_VIDE\"],vocab_fr[\"DEBUT_DE_PHRASE\"],vocab_fr[\"FIN_DE_PHRASE\"]).to(device)\n",
    "model_en = Modèle(n_token_en,embedding_dim,n_head, num_encoder_layers,num_decoder_layers,dim_feedforward,dropout,activation,vocab_en[\"TOKEN_VIDE\"],vocab_en[\"DEBUT_DE_PHRASE\"],vocab_en[\"FIN_DE_PHRASE\"]).to(device)\n",
    "\n",
    "#IF WE WANT TO LOAD PREVIOUSLY TRAINED MODEL\n",
    "# model_en.load_state_dict(torch.load(\"tordjx/model_en\"))\n",
    "# model_fr.load_state_dict(torch.load(\"tordjx/model_fr\"))"
   ]
  },
  {
   "cell_type": "code",
   "execution_count": 2,
   "id": "2604d4a2-4579-4027-a9be-42ba3d74eca6",
   "metadata": {
    "tags": []
   },
   "outputs": [],
   "source": [
    "# val_features  = np.load(fs.open('tordjx/val-resnet50-res4frelu.npy'))\n",
    "# train_features  = np.load(fs.open('tordjx/train-resnet50-res4frelu.npy'))\n",
    "# val_features = np.load(\"C:/Users/lucas/Desktop/val-resnet50-res4frelu.npy\")\n",
    "# val_features = np.load(\"C:/Users/lucas/Desktop/val-resnet50-res4frelu.npy\")\n",
    "train_features  = np.load(\"tordjx/train-resnet50-res4frelu.npy\")\n",
    "val_features = np.load(\"tordjx/val-resnet50-res4frelu.npy\")\n",
    "train_features = torch.from_numpy(train_features)\n",
    "val_features = torch.from_numpy(val_features)\n",
    "train_data_fr = [tokenized_fr, train_features]\n",
    "train_data_en = [tokenized_en, train_features]\n",
    "val_data_fr = [tokenized_val_fr, val_features]\n",
    "val_data_en = [tokenized_val_en, val_features]"
   ]
  },
  {
   "cell_type": "code",
   "execution_count": 6,
   "id": "d493cdfe-c6fe-42b4-9f7a-e89c4df97f76",
   "metadata": {
    "tags": []
   },
   "outputs": [
    {
     "ename": "KeyboardInterrupt",
     "evalue": "",
     "output_type": "error",
     "traceback": [
      "\u001b[0;31m---------------------------------------------------------------------------\u001b[0m",
      "\u001b[0;31mKeyboardInterrupt\u001b[0m                         Traceback (most recent call last)",
      "Cell \u001b[0;32mIn[6], line 1\u001b[0m\n\u001b[0;32m----> 1\u001b[0m \u001b[43mmixed_train\u001b[49m\u001b[43m(\u001b[49m\u001b[43mmodel_fr\u001b[49m\u001b[43m,\u001b[49m\u001b[43mmodel_en\u001b[49m\u001b[43m,\u001b[49m\u001b[43mtrain_data_fr\u001b[49m\u001b[43m,\u001b[49m\u001b[43mtrain_data_en\u001b[49m\u001b[43m,\u001b[49m\u001b[38;5;241;43m150\u001b[39;49m\u001b[43m,\u001b[49m\u001b[43mbatch_size\u001b[49m\u001b[43m,\u001b[49m\u001b[43m \u001b[49m\u001b[38;5;28;43;01mTrue\u001b[39;49;00m\u001b[43m,\u001b[49m\u001b[43m[\u001b[49m\u001b[38;5;241;43m1\u001b[39;49m\u001b[38;5;241;43m/\u001b[39;49m\u001b[38;5;241;43m3\u001b[39;49m\u001b[43m,\u001b[49m\u001b[38;5;241;43m1\u001b[39;49m\u001b[43m]\u001b[49m\u001b[43m)\u001b[49m\n",
      "File \u001b[0;32m~/work/ummt/Core model files/Trainer.py:230\u001b[0m, in \u001b[0;36mmixed_train\u001b[0;34m(model_fr, model_en, train_data_fr, train_data_en, n_iter, batch_size, image_bool, repartition)\u001b[0m\n\u001b[1;32m    228\u001b[0m     model_A\u001b[38;5;241m.\u001b[39mloss_list\u001b[38;5;241m.\u001b[39mappend(loss)\n\u001b[1;32m    229\u001b[0m \u001b[38;5;28;01melif\u001b[39;00m V \u001b[38;5;241m<\u001b[39m repartition[\u001b[38;5;241m1\u001b[39m]  :\u001b[38;5;66;03m#CYCLE CONSISTENT\u001b[39;00m\n\u001b[0;32m--> 230\u001b[0m     loss \u001b[38;5;241m=\u001b[39m \u001b[43mcycle_consistency_train\u001b[49m\u001b[43m(\u001b[49m\u001b[43mmodel_A\u001b[49m\u001b[43m,\u001b[49m\u001b[43mmodel_B\u001b[49m\u001b[43m,\u001b[49m\u001b[43mtrain_data\u001b[49m\u001b[43m,\u001b[49m\u001b[43mimage_bool\u001b[49m\u001b[43m)\u001b[49m\n\u001b[1;32m    231\u001b[0m     model_A\u001b[38;5;241m.\u001b[39mloss_list\u001b[38;5;241m.\u001b[39mappend(loss)\n\u001b[1;32m    232\u001b[0m     model_B\u001b[38;5;241m.\u001b[39mloss_list\u001b[38;5;241m.\u001b[39mappend(loss)\n",
      "File \u001b[0;32m~/work/ummt/Core model files/Trainer.py:145\u001b[0m, in \u001b[0;36mcycle_consistency_train\u001b[0;34m(model_A, model_B, train_data, image_bool)\u001b[0m\n\u001b[1;32m    142\u001b[0m \u001b[38;5;28;01mif\u001b[39;00m image_bool : \n\u001b[1;32m    143\u001b[0m     \u001b[38;5;28;01mwith\u001b[39;00m torch\u001b[38;5;241m.\u001b[39mno_grad():\n\u001b[0;32m--> 145\u001b[0m         first_output \u001b[38;5;241m=\u001b[39m \u001b[43mCCF_greedy\u001b[49m\u001b[43m(\u001b[49m\u001b[43mmodel_A\u001b[49m\u001b[43m,\u001b[49m\u001b[43mmodel_B\u001b[49m\u001b[43m,\u001b[49m\u001b[43m \u001b[49m\u001b[43mdata\u001b[49m\u001b[43m,\u001b[49m\u001b[43m \u001b[49m\u001b[43mfeatures\u001b[49m\u001b[43m,\u001b[49m\u001b[43m \u001b[49m\u001b[43mimage_bool\u001b[49m\u001b[43m)\u001b[49m\n\u001b[1;32m    146\u001b[0m         \u001b[38;5;66;03m# print(\"pre argmax\")\u001b[39;00m\n\u001b[1;32m    147\u001b[0m         \u001b[38;5;66;03m# print(first_output)\u001b[39;00m\n\u001b[1;32m    148\u001b[0m         first_output \u001b[38;5;241m=\u001b[39m range_le_padding(check_data(torch\u001b[38;5;241m.\u001b[39margmax(first_output,dim \u001b[38;5;241m=\u001b[39m \u001b[38;5;241m2\u001b[39m),model_B\u001b[38;5;241m.\u001b[39mpadding_id,model_B\u001b[38;5;241m.\u001b[39mbegin_id,model_B\u001b[38;5;241m.\u001b[39mend_id),model_B\u001b[38;5;241m.\u001b[39mpadding_id)\n",
      "File \u001b[0;32m~/work/ummt/Core model files/greedy_beam_search.py:60\u001b[0m, in \u001b[0;36mCCF_greedy\u001b[0;34m(model_A, model_B, text_input, image_input, image_bool)\u001b[0m\n\u001b[1;32m     58\u001b[0m     prob \u001b[38;5;241m=\u001b[39m  model_B\u001b[38;5;241m.\u001b[39moutput_layer(output)\n\u001b[1;32m     59\u001b[0m     next_words \u001b[38;5;241m=\u001b[39m torch\u001b[38;5;241m.\u001b[39margmax(prob, dim\u001b[38;5;241m=\u001b[39m\u001b[38;5;241m2\u001b[39m)[:,i\u001b[38;5;241m+\u001b[39m\u001b[38;5;241m1\u001b[39m]\n\u001b[0;32m---> 60\u001b[0m     decoder_input[:,i\u001b[38;5;241m+\u001b[39m\u001b[38;5;241m1\u001b[39m] \u001b[38;5;241m=\u001b[39m next_words\n\u001b[1;32m     62\u001b[0m \u001b[38;5;28;01mreturn\u001b[39;00m model_B\u001b[38;5;241m.\u001b[39moutput_layer(output)\n",
      "\u001b[0;31mKeyboardInterrupt\u001b[0m: "
     ]
    }
   ],
   "source": [
    "mixed_train(model_fr,model_en,train_data_fr,train_data_en,150,batch_size, True,[1/3,1])\n"
   ]
  },
  {
   "cell_type": "code",
   "execution_count": 3,
   "id": "927b652e-793c-439a-9d27-a9a65e88d9d1",
   "metadata": {
    "tags": []
   },
   "outputs": [
    {
     "name": "stderr",
     "output_type": "stream",
     "text": [
      "/opt/mamba/lib/python3.10/site-packages/torch/nn/functional.py:4999: UserWarning: Support for mismatched src_key_padding_mask and src_mask is deprecated. Use same type for both instead.\n",
      "  warnings.warn(\n",
      "/opt/mamba/lib/python3.10/site-packages/torch/nn/functional.py:4999: UserWarning: Support for mismatched key_padding_mask and attn_mask is deprecated. Use same type for both instead.\n",
      "  warnings.warn(\n"
     ]
    },
    {
     "name": "stdout",
     "output_type": "stream",
     "text": [
      "Bleu score\n",
      "0\n",
      "Meteor score\n",
      "Bonne traduction\n",
      "deux enfants mettent leurs visages dans des dessins de chevalier et de reine . \n",
      "tensor([1663,  835,  763,  763, 5183,  763,  763, 5183,  763,  763,  763, 2496,\n",
      "        4259, 2496, 2496, 4259, 2496, 2496, 2496, 2496, 2496, 2496, 4259, 2496,\n",
      "        2496, 2496, 2496, 2496, 2496, 2496, 2496, 2496, 2496, 2496, 2496, 2496,\n",
      "        4259, 2496, 2496, 2496, 2496, 2496, 2496, 2496, 2496, 2496, 2496, 2496,\n",
      "        2496, 5578, 5578, 5578, 5578, 5578, 5578, 5578, 5578, 5578, 5578, 5578,\n",
      "        5578, 5578, 5578, 5578, 5578, 5578, 5578, 5578, 5578, 5578, 5578, 5578,\n",
      "        5578, 5578, 5578, 5578, 5578, 5578, 2249, 5578, 5578, 5578, 2249, 5578,\n",
      "        5578, 5578, 2249, 5578, 5578, 5578, 2249, 5578, 5578, 5578, 2249, 5578,\n",
      "         793], device='cuda:0')\n",
      "Phrase à traduire : \n",
      "two children are putting their faces into a knight and royal woman &apos;s picture . \n",
      "Phrase traduite : \n",
      "ulélectrique onnonnxyonnonnxyonnonnonnétroite état étroite étroite état étroite étroite étroite étroite étroite étroite état étroite étroite étroite étroite étroite étroite étroite étroite étroite étroite étroite étroite étroite état étroite étroite étroite étroite étroite étroite étroite étroite étroite étroite étroite étroite accoraccoraccoraccoraccoraccoraccoraccoraccoraccoraccoraccoraccoraccoraccoraccoraccoraccoraccoraccoraccoraccoraccoraccoraccoraccoraccoraccoraccorsomaccoraccoraccorsomaccoraccoraccorsomaccoraccoraccorsomaccoraccoraccorsomaccorille \n"
     ]
    }
   ],
   "source": [
    "from nltk.translate.bleu_score import sentence_bleu \n",
    "from nltk.translate.meteor_score import meteor_score\n",
    "from importlib import reload as _reload\n",
    "import greedy_beam_search\n",
    "_reload(greedy_beam_search)\n",
    "\n",
    "\n",
    "def tensor_to_sentence(output,inv_dic):\n",
    "    result = [inv_dic[int(x)] for x in output]\n",
    "    sentence = \"\"\n",
    "    for word in result : \n",
    "        if word == \"DEBUT_DE_PHRASE\" or word == \"TOKEN_VIDE\" :\n",
    "            pass\n",
    "        elif '@@' in word: \n",
    "            sentence+=word[:-2]\n",
    "        elif word == \"FIN_DE_PHRASE\" :\n",
    "            break \n",
    "        \n",
    "        else :\n",
    "            sentence+=word +\" \"\n",
    "    return sentence\n",
    "\n",
    "def traduit(model_A,model_B,data, inv_map,image_bool,src,invmapsrc):\n",
    "    model_en.eval()\n",
    "    model_fr.eval()\n",
    "    if image_bool : \n",
    "        data,features= data\n",
    "\n",
    "    # output = greedy_beam_search.CCF_beam_search(model_A, model_B, data, 3, features, True)[j]\n",
    "    \n",
    "    output = torch.argmax(greedy_beam_search.CCF_greedy(model_A,model_B,data, features, True),dim = 2)[j]\n",
    "    print(\"Bleu score\")\n",
    "    print(evalue_bleu(output.view(-1),inv_map,src.view(-1),invmapsrc))\n",
    "    print(\"Meteor score\")\n",
    "    # print(evalue_meteor(output.view(-1),inv_map,src.view(-1),invmapsrc))\n",
    "    print(\"Bonne traduction\")\n",
    "    print(tensor_to_sentence(src.view(-1),inv_map))\n",
    "    print(output)\n",
    "    return tensor_to_sentence(output.view(-1),inv_map)\n",
    "\n",
    "def evalue_bleu(output,inv_dic, source,inv_dic_src):\n",
    "\n",
    "    result = [inv_dic[int(x)] for x in output if inv_dic[int(x)] not in  [\"TOKEN_VIDE\",\"DEBUT_DE_PHRASE\",\"FIN_DE_PHRASE\"]]\n",
    "    source = [inv_dic_src[int(x)] for x in source if inv_dic_src[int(x)] not in  [\"TOKEN_VIDE\",\"DEBUT_DE_PHRASE\",\"FIN_DE_PHRASE\"]]\n",
    "    # print(result)\n",
    "    # print(source)\n",
    "    return sentence_bleu([source], result)\n",
    "def evalue_meteor(output,inv_dic, source,inv_dic_src):\n",
    "\n",
    "    result = [inv_dic[int(x)] for x in output if inv_dic[int(x)] not in  [\"TOKEN_VIDE\",\"DEBUT_DE_PHRASE\",\"FIN_DE_PHRASE\"]]\n",
    "    source = [inv_dic_src[int(x)] for x in source if inv_dic_src[int(x)] not in  [\"TOKEN_VIDE\",\"DEBUT_DE_PHRASE\",\"FIN_DE_PHRASE\"]]\n",
    "    # print(result)\n",
    "    # print(source)\n",
    "    return meteor_score([source], result)\n",
    "\n",
    "def donne_random(i = np.random.randint(len(tokenized_val_en)//batch_size),j = np.random.randint(batch_size)):\n",
    "    \n",
    "    batched_data_en,batched_data_fr=batchify([val_data_en,val_data_fr],batch_size,True)\n",
    "    data,features = batched_data_en\n",
    "    src,_ = batched_data_fr\n",
    "    return data[i],features[i],src[i]\n",
    "\n",
    "text,features,source = donne_random()\n",
    "features = features.to(device,dtype=torch.float32)\n",
    "data = [text,features]\n",
    "for i in range(1):\n",
    "    j = np.random.randint(batch_size)\n",
    "    print(\"Phrase à traduire : \\n\" + tensor_to_sentence(text[j],inv_map_en)+ \"\\nPhrase traduite : \\n\"+ traduit(model_en,model_fr,data, inv_map_fr,True,source[j],inv_map_fr) )\n",
    "\n",
    "\n",
    "#%%"
   ]
  },
  {
   "cell_type": "code",
   "execution_count": 5,
   "id": "033da8a6-1d98-4eea-be9a-ba67221f6780",
   "metadata": {
    "tags": []
   },
   "outputs": [
    {
     "name": "stdout",
     "output_type": "stream",
     "text": [
      "1.712\n"
     ]
    },
    {
     "data": {
      "image/png": "[encoded data removed]",
      "text/plain": [
       "<Figure size 640x480 with 1 Axes>"
      ]
     },
     "metadata": {},
     "output_type": "display_data"
    }
   ],
   "source": [
    "def moving_average(a, n=1,tail = 0) :\n",
    "    ret = np.cumsum(a, dtype=float)\n",
    "    ret[n:] = ret[n:] - ret[:-n]\n",
    "    return (ret[n - 1:] / n)[tail:]\n",
    "\n",
    "plt.plot(moving_average(model_fr.loss_list))\n",
    "plt.plot(moving_average(model_en.loss_list))\n",
    "# plt.plot(model_en.loss_list)\n",
    "print(len(model_fr.loss_list)/(29000/batch_size))\n"
   ]
  },
  {
   "cell_type": "code",
   "execution_count": 8,
   "id": "8af80f3d-53f1-4fe7-9aa1-1868350791a3",
   "metadata": {
    "tags": []
   },
   "outputs": [
    {
     "name": "stdout",
     "output_type": "stream",
     "text": [
      "Requirement already satisfied: pandas in /opt/mamba/lib/python3.10/site-packages (2.0.0)\n",
      "Requirement already satisfied: python-dateutil>=2.8.2 in /opt/mamba/lib/python3.10/site-packages (from pandas) (2.8.2)\n",
      "Requirement already satisfied: pytz>=2020.1 in /opt/mamba/lib/python3.10/site-packages (from pandas) (2023.3)\n",
      "Requirement already satisfied: tzdata>=2022.1 in /opt/mamba/lib/python3.10/site-packages (from pandas) (2023.3)\n",
      "Requirement already satisfied: numpy>=1.21.0 in /opt/mamba/lib/python3.10/site-packages (from pandas) (1.24.2)\n",
      "Requirement already satisfied: six>=1.5 in /opt/mamba/lib/python3.10/site-packages (from python-dateutil>=2.8.2->pandas) (1.16.0)\n"
     ]
    }
   ],
   "source": [
    "torch.save(model_fr.state_dict(), \"tordjx/model_fr\")\n",
    "torch.save(model_en.state_dict(), \"tordjx/model_en\")\n",
    "import os\n",
    "import s3fs\n",
    "!pip install pandas\n",
    "import pandas\n",
    "# Create filesystem object\n",
    "S3_ENDPOINT_URL = \"https://\" + os.environ[\"AWS_S3_ENDPOINT\"]\n",
    "fs = s3fs.S3FileSystem(client_kwargs={'endpoint_url': S3_ENDPOINT_URL})\n",
    "fs.upload(\"tordjx/model_fr\",\"tordjx/model_fr\")\n",
    "fs.upload(\"tordjx/model_en\",\"tordjx/model_en\")"
   ]
  }
 ],
 "metadata": {
  "kernelspec": {
   "display_name": "Python 3 (ipykernel)",
   "language": "python",
   "name": "python3"
  },
  "language_info": {
   "codemirror_mode": {
    "name": "ipython",
    "version": 3
   },
   "file_extension": ".py",
   "mimetype": "text/x-python",
   "name": "python",
   "nbconvert_exporter": "python",
   "pygments_lexer": "ipython3",
   "version": "3.10.9"
  }
 },
 "nbformat": 4,
 "nbformat_minor": 5
}
