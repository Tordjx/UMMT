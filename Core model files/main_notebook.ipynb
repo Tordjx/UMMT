{
 "cells": [
  {
   "cell_type": "code",
   "execution_count": 1,
   "id": "4f7ee3bb-7c9c-47e3-ae7f-064be78e7002",
   "metadata": {
    "tags": []
   },
   "outputs": [
    {
     "name": "stdout",
     "output_type": "stream",
     "text": [
      "DEBUT_DE_PHRASE\n",
      "FIN_DE_PHRASE\n",
      "TOKEN_VIDE\n",
      "&@@\n",
      "j\n",
      ";@@\n",
      "DEBUT_DE_PHRASE\n",
      "FIN_DE_PHRASE\n",
      "TOKEN_VIDE\n",
      "Ã \n",
      "&@@\n",
      "j\n",
      "Ã @@\n",
      "Ã«\n",
      "Ã«@@\n"
     ]
    }
   ],
   "source": [
    "#%%\n",
    "from Modele_decodeur_maison import *\n",
    "\n",
    "from Pipeline import *\n",
    "from Trainer import * \n",
    "\n",
    "device = torch.device('cuda' if torch.cuda.is_available() else 'cpu')\n",
    "batch_size = 50\n",
    "\n",
    "# Images\n",
    "# images = np.load(\"C:/Users/lucas/Desktop/train-resnet50-res4frelu.npy\")\n",
    "\n",
    "# Texts\n",
    "tokenized_fr,tokenized_en, vocab_fr,vocab_en = get_train_data_nouveau(batch_size)\n",
    "n_token_fr = len(vocab_fr.keys())\n",
    "n_token_en = len(vocab_en.keys())\n",
    "\n",
    "inv_map_en = {v: k for k, v in vocab_en.items()}\n",
    "inv_map_fr = {v: k for k, v in vocab_fr.items()}\n",
    "\n",
    "n_head = 4 \n",
    "num_encoder_layers = 2\n",
    "num_decoder_layers = 2\n",
    "dim_feedforward = 196\n",
    "dropout = 0.1\n",
    "activation = nn.Softmax\n",
    "embedding_dim = 196\n",
    "\n",
    "model_fr = Modèle(n_token_fr,embedding_dim,n_head, num_encoder_layers,num_decoder_layers,dim_feedforward,dropout,activation).to(device)\n",
    "\n",
    "model_en = Modèle(n_token_en,embedding_dim,n_head, num_encoder_layers,num_decoder_layers,dim_feedforward,dropout,activation).to(device)\n",
    "\n",
    "\n",
    "\n"
   ]
  },
  {
   "cell_type": "code",
   "execution_count": 2,
   "id": "d493cdfe-c6fe-42b4-9f7a-e89c4df97f76",
   "metadata": {
    "tags": []
   },
   "outputs": [],
   "source": [
    "\n",
    "# Y=train_auto_encoding(model_fr,tokenized_fr)\n",
    "# Y=train_auto_encoding(model_en,tokenized_en)\n",
    "# Y= cycle_consistency_train(model_fr,model_en,tokenized_fr,tokenized_en)\n",
    "# mixed_train(model_fr,model_en,tokenized_fr,tokenized_en,200,50)\n",
    "\n"
   ]
  },
  {
   "cell_type": "code",
   "execution_count": 3,
   "id": "927b652e-793c-439a-9d27-a9a65e88d9d1",
   "metadata": {},
   "outputs": [
    {
     "name": "stdout",
     "output_type": "stream",
     "text": [
      "Phrase à traduire : \n",
      "two women are sitting and talking and laughing together . \n",
      " Phrase traduite : \n",
      " ina brepiÃ¨ce trÃ©buaissjeundrÃ´le jeunpittoresque squsqusquimimimimimimimimimimimimimimimimimimimimatv atv atv atv imimatv atv atv imimimimimimatv atv atv imimimatv atv atv atv atv atv atv atv atv atv atv imimimkitesurkitesurkitesurkitesurkitesurkitesurkitesurkitesuratv atv atv atv atv atv atv atv atv atv atv atv atv atv atv atv atv atv atv atv atv atv \n"
     ]
    },
    {
     "name": "stderr",
     "output_type": "stream",
     "text": [
      "C:\\Users\\valen\\AppData\\Local\\Temp\\ipykernel_1392\\3639088073.py:19: UserWarning: The use of `x.T` on tensors of dimension other than 2 to reverse their shape is deprecated and it will throw an error in a future release. Consider `x.mT` to transpose batches of matrices or `x.permute(*torch.arange(x.ndim - 1, -1, -1))` to reverse the dimensions of a tensor. (Triggered internally at ..\\aten\\src\\ATen\\native\\TensorShape.cpp:3281.)\n",
      "  output = torch.argmax(cycle_consistent_forward(model_A,model_B,data),dim = 2).T[j].T\n"
     ]
    }
   ],
   "source": [
    "#%%\n",
    "def tensor_to_sentence(output,inv_dic):\n",
    "    result = [inv_dic[int(x)] for x in output]\n",
    "    sentence = \"\"\n",
    "    for word in result : \n",
    "        if word == \"DEBUT_DE_PHRASE\" :\n",
    "            pass\n",
    "        elif '@@' in word: \n",
    "            sentence+=word[:-2]\n",
    "        elif word == \"FIN_DE_PHRASE\" :\n",
    "            break \n",
    "        else :\n",
    "            sentence+=word +\" \"\n",
    "    return sentence\n",
    "\n",
    "def traduit(model_A,model_B,data, inv_map):\n",
    "    model_en.eval()\n",
    "    model_fr.eval()\n",
    "    output = torch.argmax(cycle_consistent_forward(model_A,model_B,data),dim = 2).T[j].T\n",
    "    return tensor_to_sentence(output.view(-1),inv_map)\n",
    "\n",
    "i = np.random.randint(len(tokenized_en)//50)\n",
    "j = np.random.randint(50)\n",
    "data,target = get_batch(tokenized_en, i)\n",
    "\n",
    "print(\"Phrase à traduire : \\n\" + tensor_to_sentence(target.T[j],inv_map_en)+ \"\\n Phrase traduite : \\n \"+ traduit(model_en,model_fr,data, inv_map_fr))\n",
    "\n",
    "\n",
    "#%%"
   ]
  },
  {
   "cell_type": "code",
   "execution_count": 4,
   "id": "2604d4a2-4579-4027-a9be-42ba3d74eca6",
   "metadata": {
    "tags": []
   },
   "outputs": [],
   "source": [
    "# import os\n",
    "\n",
    "# import s3fs\n",
    "# import pandas\n",
    "# # Create filesystem object\n",
    "# S3_ENDPOINT_URL = \"https://\" + os.environ[\"AWS_S3_ENDPOINT\"]\n",
    "# fs = s3fs.S3FileSystem(client_kwargs={'endpoint_url': S3_ENDPOINT_URL})\n",
    "\n",
    "# val_features  = np.load(fs.open('tordjx/val-resnet50-res4frelu.npy'))\n",
    "# # train_features  = np.load(fs.open('tordjx/train-resnet50-res4frelu.npy'))\n"
   ]
  },
  {
   "cell_type": "code",
   "execution_count": 5,
   "id": "e9aa8adc-c397-4e13-9fe2-4ab3624901fb",
   "metadata": {
    "tags": []
   },
   "outputs": [
    {
     "data": {
      "text/plain": [
       "torch.Size([1121, 50, 196])"
      ]
     },
     "execution_count": 5,
     "metadata": {},
     "output_type": "execute_result"
    }
   ],
   "source": [
    "data_text, _  = get_batch(tokenized_fr, 0)\n",
    "val_features = np.load(\"D:/Valentin/Documents/ENSAE/STATAPP/Images/val-resnet50-res4frelu.npy\")\n",
    "batchsz = 50\n",
    "embed = model_fr.embedding(data_text)\n",
    "torch.cat((embed, torch.from_numpy(val_features.reshape(1014,1024,196)[:1000].reshape(1000//batchsz ,1024,batchsz , 196)[0]).to(device))).shape"
   ]
  },
  {
   "cell_type": "code",
   "execution_count": 6,
   "id": "5281b3cf-9cb7-44ca-958d-00e9e9a67894",
   "metadata": {
    "tags": []
   },
   "outputs": [
    {
     "name": "stdout",
     "output_type": "stream",
     "text": [
      "torch.Size([97, 50, 196]) torch.Size([1024, 50, 196])\n",
      "torch.Size([97, 50, 196])\n",
      "torch.Size([1024, 50, 196])\n"
     ]
    },
    {
     "ename": "RuntimeError",
     "evalue": "shape '[97, -1, 4, 49]' is invalid for input of size 10035200",
     "output_type": "error",
     "traceback": [
      "\u001b[1;31m---------------------------------------------------------------------------\u001b[0m",
      "\u001b[1;31mRuntimeError\u001b[0m                              Traceback (most recent call last)",
      "Cell \u001b[1;32mIn[6], line 1\u001b[0m\n\u001b[1;32m----> 1\u001b[0m output \u001b[39m=\u001b[39m model_fr(data_text, \u001b[39mTrue\u001b[39;49;00m, torch\u001b[39m.\u001b[39;49mfrom_numpy(val_features\u001b[39m.\u001b[39;49mreshape(\u001b[39m1014\u001b[39;49m,\u001b[39m1024\u001b[39;49m,\u001b[39m196\u001b[39;49m)[:\u001b[39m1000\u001b[39;49m]\u001b[39m.\u001b[39;49mreshape(\u001b[39m1000\u001b[39;49m\u001b[39m/\u001b[39;49m\u001b[39m/\u001b[39;49mbatchsz ,\u001b[39m1024\u001b[39;49m,batchsz , \u001b[39m196\u001b[39;49m)[\u001b[39m0\u001b[39;49m])\u001b[39m.\u001b[39;49mto(device\u001b[39m=\u001b[39;49m device, dtype \u001b[39m=\u001b[39;49m torch\u001b[39m.\u001b[39;49mfloat32))\u001b[39m.\u001b[39mshape\n",
      "File \u001b[1;32md:\\Programmes\\Python\\lib\\site-packages\\torch\\nn\\modules\\module.py:1194\u001b[0m, in \u001b[0;36mModule._call_impl\u001b[1;34m(self, *input, **kwargs)\u001b[0m\n\u001b[0;32m   1190\u001b[0m \u001b[39m# If we don't have any hooks, we want to skip the rest of the logic in\u001b[39;00m\n\u001b[0;32m   1191\u001b[0m \u001b[39m# this function, and just call forward.\u001b[39;00m\n\u001b[0;32m   1192\u001b[0m \u001b[39mif\u001b[39;00m \u001b[39mnot\u001b[39;00m (\u001b[39mself\u001b[39m\u001b[39m.\u001b[39m_backward_hooks \u001b[39mor\u001b[39;00m \u001b[39mself\u001b[39m\u001b[39m.\u001b[39m_forward_hooks \u001b[39mor\u001b[39;00m \u001b[39mself\u001b[39m\u001b[39m.\u001b[39m_forward_pre_hooks \u001b[39mor\u001b[39;00m _global_backward_hooks\n\u001b[0;32m   1193\u001b[0m         \u001b[39mor\u001b[39;00m _global_forward_hooks \u001b[39mor\u001b[39;00m _global_forward_pre_hooks):\n\u001b[1;32m-> 1194\u001b[0m     \u001b[39mreturn\u001b[39;00m forward_call(\u001b[39m*\u001b[39m\u001b[39minput\u001b[39m, \u001b[39m*\u001b[39m\u001b[39m*\u001b[39mkwargs)\n\u001b[0;32m   1195\u001b[0m \u001b[39m# Do not call functions when jit is used\u001b[39;00m\n\u001b[0;32m   1196\u001b[0m full_backward_hooks, non_full_backward_hooks \u001b[39m=\u001b[39m [], []\n",
      "File \u001b[1;32md:\\Valentin\\Documents\\ENSAE\\STATAPP\\UMMT\\Core model files\\Modele_decodeur_maison.py:93\u001b[0m, in \u001b[0;36mModèle.forward\u001b[1;34m(self, text_input, image_bool, image_input)\u001b[0m\n\u001b[0;32m     90\u001b[0m     \u001b[39mprint\u001b[39m(text_encoded\u001b[39m.\u001b[39mshape, image_encoded\u001b[39m.\u001b[39mshape)\n\u001b[0;32m     91\u001b[0m     x \u001b[39m=\u001b[39m [text_encoded, image_encoded]\n\u001b[1;32m---> 93\u001b[0m     output \u001b[39m=\u001b[39m \u001b[39mself\u001b[39;49m\u001b[39m.\u001b[39;49mdecoder(x, \u001b[39mself\u001b[39;49m\u001b[39m.\u001b[39;49mpositional_encoder(\u001b[39mself\u001b[39;49m\u001b[39m.\u001b[39;49membedding(text_input)), tgt_mask , memory_mask , tgt_padding_mask, memory_key_padding_mask)\n\u001b[0;32m     94\u001b[0m     \u001b[39mreturn\u001b[39;00m output\n\u001b[0;32m     95\u001b[0m \u001b[39melse\u001b[39;00m:\n\u001b[0;32m     96\u001b[0m     \u001b[39m# Pass through the decoder\u001b[39;00m\n",
      "File \u001b[1;32md:\\Programmes\\Python\\lib\\site-packages\\torch\\nn\\modules\\module.py:1194\u001b[0m, in \u001b[0;36mModule._call_impl\u001b[1;34m(self, *input, **kwargs)\u001b[0m\n\u001b[0;32m   1190\u001b[0m \u001b[39m# If we don't have any hooks, we want to skip the rest of the logic in\u001b[39;00m\n\u001b[0;32m   1191\u001b[0m \u001b[39m# this function, and just call forward.\u001b[39;00m\n\u001b[0;32m   1192\u001b[0m \u001b[39mif\u001b[39;00m \u001b[39mnot\u001b[39;00m (\u001b[39mself\u001b[39m\u001b[39m.\u001b[39m_backward_hooks \u001b[39mor\u001b[39;00m \u001b[39mself\u001b[39m\u001b[39m.\u001b[39m_forward_hooks \u001b[39mor\u001b[39;00m \u001b[39mself\u001b[39m\u001b[39m.\u001b[39m_forward_pre_hooks \u001b[39mor\u001b[39;00m _global_backward_hooks\n\u001b[0;32m   1193\u001b[0m         \u001b[39mor\u001b[39;00m _global_forward_hooks \u001b[39mor\u001b[39;00m _global_forward_pre_hooks):\n\u001b[1;32m-> 1194\u001b[0m     \u001b[39mreturn\u001b[39;00m forward_call(\u001b[39m*\u001b[39m\u001b[39minput\u001b[39m, \u001b[39m*\u001b[39m\u001b[39m*\u001b[39mkwargs)\n\u001b[0;32m   1195\u001b[0m \u001b[39m# Do not call functions when jit is used\u001b[39;00m\n\u001b[0;32m   1196\u001b[0m full_backward_hooks, non_full_backward_hooks \u001b[39m=\u001b[39m [], []\n",
      "File \u001b[1;32md:\\Programmes\\Python\\lib\\site-packages\\torch\\nn\\modules\\transformer.py:333\u001b[0m, in \u001b[0;36mTransformerDecoder.forward\u001b[1;34m(self, tgt, memory, tgt_mask, memory_mask, tgt_key_padding_mask, memory_key_padding_mask)\u001b[0m\n\u001b[0;32m    330\u001b[0m output \u001b[39m=\u001b[39m tgt\n\u001b[0;32m    332\u001b[0m \u001b[39mfor\u001b[39;00m mod \u001b[39min\u001b[39;00m \u001b[39mself\u001b[39m\u001b[39m.\u001b[39mlayers:\n\u001b[1;32m--> 333\u001b[0m     output \u001b[39m=\u001b[39m mod(output, memory, tgt_mask\u001b[39m=\u001b[39;49mtgt_mask,\n\u001b[0;32m    334\u001b[0m                  memory_mask\u001b[39m=\u001b[39;49mmemory_mask,\n\u001b[0;32m    335\u001b[0m                  tgt_key_padding_mask\u001b[39m=\u001b[39;49mtgt_key_padding_mask,\n\u001b[0;32m    336\u001b[0m                  memory_key_padding_mask\u001b[39m=\u001b[39;49mmemory_key_padding_mask)\n\u001b[0;32m    338\u001b[0m \u001b[39mif\u001b[39;00m \u001b[39mself\u001b[39m\u001b[39m.\u001b[39mnorm \u001b[39mis\u001b[39;00m \u001b[39mnot\u001b[39;00m \u001b[39mNone\u001b[39;00m:\n\u001b[0;32m    339\u001b[0m     output \u001b[39m=\u001b[39m \u001b[39mself\u001b[39m\u001b[39m.\u001b[39mnorm(output)\n",
      "File \u001b[1;32md:\\Programmes\\Python\\lib\\site-packages\\torch\\nn\\modules\\module.py:1194\u001b[0m, in \u001b[0;36mModule._call_impl\u001b[1;34m(self, *input, **kwargs)\u001b[0m\n\u001b[0;32m   1190\u001b[0m \u001b[39m# If we don't have any hooks, we want to skip the rest of the logic in\u001b[39;00m\n\u001b[0;32m   1191\u001b[0m \u001b[39m# this function, and just call forward.\u001b[39;00m\n\u001b[0;32m   1192\u001b[0m \u001b[39mif\u001b[39;00m \u001b[39mnot\u001b[39;00m (\u001b[39mself\u001b[39m\u001b[39m.\u001b[39m_backward_hooks \u001b[39mor\u001b[39;00m \u001b[39mself\u001b[39m\u001b[39m.\u001b[39m_forward_hooks \u001b[39mor\u001b[39;00m \u001b[39mself\u001b[39m\u001b[39m.\u001b[39m_forward_pre_hooks \u001b[39mor\u001b[39;00m _global_backward_hooks\n\u001b[0;32m   1193\u001b[0m         \u001b[39mor\u001b[39;00m _global_forward_hooks \u001b[39mor\u001b[39;00m _global_forward_pre_hooks):\n\u001b[1;32m-> 1194\u001b[0m     \u001b[39mreturn\u001b[39;00m forward_call(\u001b[39m*\u001b[39m\u001b[39minput\u001b[39m, \u001b[39m*\u001b[39m\u001b[39m*\u001b[39mkwargs)\n\u001b[0;32m   1195\u001b[0m \u001b[39m# Do not call functions when jit is used\u001b[39;00m\n\u001b[0;32m   1196\u001b[0m full_backward_hooks, non_full_backward_hooks \u001b[39m=\u001b[39m [], []\n",
      "File \u001b[1;32md:\\Valentin\\Documents\\ENSAE\\STATAPP\\UMMT\\Core model files\\NewDecoderLayer.py:47\u001b[0m, in \u001b[0;36mTransformerDecoderLayer.forward\u001b[1;34m(self, x, memory, tgt_mask, memory_mask, tgt_key_padding_mask, memory_key_padding_mask)\u001b[0m\n\u001b[0;32m     45\u001b[0m ei_outputs \u001b[39m=\u001b[39m torch\u001b[39m.\u001b[39mcat((memory, i_outputs), \u001b[39m0\u001b[39m)\n\u001b[0;32m     46\u001b[0m \u001b[39m# print(e_outputs.shape, x2.shape,x.shape)\u001b[39;00m\n\u001b[1;32m---> 47\u001b[0m x \u001b[39m=\u001b[39m x \u001b[39m+\u001b[39m \u001b[39mself\u001b[39m\u001b[39m.\u001b[39mdropout_2(\u001b[39mself\u001b[39;49m\u001b[39m.\u001b[39;49mattn_2(x2, memory, i_outputs, ei_outputs, memory, i_outputs, ei_outputs, memory_mask, image_bool\u001b[39m=\u001b[39;49m\u001b[39mTrue\u001b[39;49;00m))\n\u001b[0;32m     48\u001b[0m x2 \u001b[39m=\u001b[39m \u001b[39mself\u001b[39m\u001b[39m.\u001b[39mnorm_3(x)\n\u001b[0;32m     49\u001b[0m x \u001b[39m=\u001b[39m x \u001b[39m+\u001b[39m \u001b[39mself\u001b[39m\u001b[39m.\u001b[39mdropout_3(\u001b[39mself\u001b[39m\u001b[39m.\u001b[39mffn(x2))\n",
      "File \u001b[1;32md:\\Programmes\\Python\\lib\\site-packages\\torch\\nn\\modules\\module.py:1194\u001b[0m, in \u001b[0;36mModule._call_impl\u001b[1;34m(self, *input, **kwargs)\u001b[0m\n\u001b[0;32m   1190\u001b[0m \u001b[39m# If we don't have any hooks, we want to skip the rest of the logic in\u001b[39;00m\n\u001b[0;32m   1191\u001b[0m \u001b[39m# this function, and just call forward.\u001b[39;00m\n\u001b[0;32m   1192\u001b[0m \u001b[39mif\u001b[39;00m \u001b[39mnot\u001b[39;00m (\u001b[39mself\u001b[39m\u001b[39m.\u001b[39m_backward_hooks \u001b[39mor\u001b[39;00m \u001b[39mself\u001b[39m\u001b[39m.\u001b[39m_forward_hooks \u001b[39mor\u001b[39;00m \u001b[39mself\u001b[39m\u001b[39m.\u001b[39m_forward_pre_hooks \u001b[39mor\u001b[39;00m _global_backward_hooks\n\u001b[0;32m   1193\u001b[0m         \u001b[39mor\u001b[39;00m _global_forward_hooks \u001b[39mor\u001b[39;00m _global_forward_pre_hooks):\n\u001b[1;32m-> 1194\u001b[0m     \u001b[39mreturn\u001b[39;00m forward_call(\u001b[39m*\u001b[39m\u001b[39minput\u001b[39m, \u001b[39m*\u001b[39m\u001b[39m*\u001b[39mkwargs)\n\u001b[0;32m   1195\u001b[0m \u001b[39m# Do not call functions when jit is used\u001b[39;00m\n\u001b[0;32m   1196\u001b[0m full_backward_hooks, non_full_backward_hooks \u001b[39m=\u001b[39m [], []\n",
      "File \u001b[1;32md:\\Valentin\\Documents\\ENSAE\\STATAPP\\UMMT\\Core model files\\Multimodal_Attention.py:76\u001b[0m, in \u001b[0;36mMultiModalAttention.forward\u001b[1;34m(self, q, k_e, k_i, k_ei, v_e, v_i, v_ei, mask, image_bool)\u001b[0m\n\u001b[0;32m     73\u001b[0m     \u001b[39mreturn\u001b[39;00m output\n\u001b[0;32m     74\u001b[0m \u001b[39melse\u001b[39;00m:\n\u001b[0;32m     75\u001b[0m     \u001b[39m# Score for image : \u001b[39;00m\n\u001b[1;32m---> 76\u001b[0m     k_i \u001b[39m=\u001b[39m \u001b[39mself\u001b[39;49m\u001b[39m.\u001b[39;49mk_i_linear(k_i)\u001b[39m.\u001b[39;49mview(bs, \u001b[39m-\u001b[39;49m\u001b[39m1\u001b[39;49m, \u001b[39mself\u001b[39;49m\u001b[39m.\u001b[39;49mh, \u001b[39mself\u001b[39;49m\u001b[39m.\u001b[39;49md_k) \n\u001b[0;32m     77\u001b[0m     k_i \u001b[39m=\u001b[39m k_i\u001b[39m.\u001b[39mtranspose(\u001b[39m1\u001b[39m,\u001b[39m2\u001b[39m)\n\u001b[0;32m     78\u001b[0m     v_i \u001b[39m=\u001b[39m \u001b[39mself\u001b[39m\u001b[39m.\u001b[39mv_i_linear(v_i)\u001b[39m.\u001b[39mview(bs, \u001b[39m-\u001b[39m\u001b[39m1\u001b[39m, \u001b[39mself\u001b[39m\u001b[39m.\u001b[39mh, \u001b[39mself\u001b[39m\u001b[39m.\u001b[39md_k)\n",
      "\u001b[1;31mRuntimeError\u001b[0m: shape '[97, -1, 4, 49]' is invalid for input of size 10035200"
     ]
    }
   ],
   "source": [
    "output = model_fr(data_text, True, torch.from_numpy(val_features.reshape(1014,1024,196)[:1000].reshape(1000//batchsz ,1024,batchsz , 196)[0]).to(device= device, dtype = torch.float32)).shape"
   ]
  }
 ],
 "metadata": {
  "kernelspec": {
   "display_name": "Python 3 (ipykernel)",
   "language": "python",
   "name": "python3"
  },
  "language_info": {
   "codemirror_mode": {
    "name": "ipython",
    "version": 3
   },
   "file_extension": ".py",
   "mimetype": "text/x-python",
   "name": "python",
   "nbconvert_exporter": "python",
   "pygments_lexer": "ipython3",
   "version": "3.10.10"
  }
 },
 "nbformat": 4,
 "nbformat_minor": 5
}
