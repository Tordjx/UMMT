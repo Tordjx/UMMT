{
 "cells": [
  {
   "cell_type": "code",
   "execution_count": 1,
   "id": "efb10bae-68df-4d91-9e10-2cecaf169e71",
   "metadata": {
    "tags": []
   },
   "outputs": [
    {
     "name": "stderr",
     "output_type": "stream",
     "text": [
      "\n",
      "[notice] A new release of pip is available: 23.0.1 -> 23.1\n",
      "[notice] To update, run: python.exe -m pip install --upgrade pip\n",
      "\n",
      "[notice] A new release of pip is available: 23.0.1 -> 23.1\n",
      "[notice] To update, run: python.exe -m pip install --upgrade pip\n",
      "\n",
      "[notice] A new release of pip is available: 23.0.1 -> 23.1\n",
      "[notice] To update, run: python.exe -m pip install --upgrade pip\n",
      "[nltk_data] Downloading package wordnet to\n",
      "[nltk_data]     C:\\Users\\valen\\AppData\\Roaming\\nltk_data...\n",
      "[nltk_data]   Package wordnet is already up-to-date!\n"
     ]
    }
   ],
   "source": [
    "!pip install matplotlib --quiet\n",
    "!pip install livelossplot --quiet\n",
    "!pip install nltk --quiet\n",
    "#mc cp s3/tordjx ummt/Core*model*files --recursive\n",
    "# watch -n 0.5 nvidia-smi\n",
    "import nltk\n",
    "nltk.download('wordnet')\n",
    "image_bool = False\n",
    "load_model = False"
   ]
  },
  {
   "cell_type": "code",
   "execution_count": 2,
   "id": "4f7ee3bb-7c9c-47e3-ae7f-064be78e7002",
   "metadata": {
    "tags": []
   },
   "outputs": [
    {
     "name": "stderr",
     "output_type": "stream",
     "text": [
      "d:\\Programmes\\Python\\lib\\site-packages\\tqdm\\auto.py:21: TqdmWarning: IProgress not found. Please update jupyter and ipywidgets. See https://ipywidgets.readthedocs.io/en/stable/user_install.html\n",
      "  from .autonotebook import tqdm as notebook_tqdm\n"
     ]
    }
   ],
   "source": [
    "#%%\n",
    "from Modele_decodeur_maison import *\n",
    "from Pipeline import *\n",
    "from Trainer import * \n",
    "from greedy_beam_search import *\n",
    "\n",
    "device = torch.device('cuda' if torch.cuda.is_available() else 'cpu')\n",
    "batch_size = 32\n",
    "\n",
    "# Texts\n",
    "tokenized_fr,tokenized_en, vocab_fr,vocab_en = get_train_data_nouveau(batch_size,True)\n",
    "tokenized_val_fr,tokenized_val_en, _,_ = get_train_data_nouveau(batch_size,False)\n",
    "#Data non batchés\n",
    "n_token_fr = len(vocab_fr.keys())\n",
    "n_token_en = len(vocab_en.keys())\n",
    "\n",
    "inv_map_en = {v: k for k, v in vocab_en.items()}\n",
    "inv_map_fr = {v: k for k, v in vocab_fr.items()}\n",
    "\n",
    "n_head =6\n",
    "num_encoder_layers = 4\n",
    "num_decoder_layers = 4\n",
    "dim_feedforward = 512\n",
    "dropout = 0.3\n",
    "activation = nn.Softmax(dim=2)\n",
    "embedding_dim = 256\n",
    "\n",
    "model_fr = Modèle(n_token_fr,embedding_dim,n_head, num_encoder_layers,num_decoder_layers,dim_feedforward,dropout,activation,vocab_fr[\"TOKEN_VIDE\"],vocab_fr[\"DEBUT_DE_PHRASE\"],vocab_fr[\"FIN_DE_PHRASE\"]).to(device)\n",
    "model_en = Modèle(n_token_en,embedding_dim,n_head, num_encoder_layers,num_decoder_layers,dim_feedforward,dropout,activation,vocab_en[\"TOKEN_VIDE\"],vocab_en[\"DEBUT_DE_PHRASE\"],vocab_en[\"FIN_DE_PHRASE\"]).to(device)\n",
    "\n",
    "if load_model : \n",
    "    model_en.load_state_dict(torch.load(\"tordjx/model_en\"))\n",
    "    model_fr.load_state_dict(torch.load(\"tordjx/model_fr\"))\n",
    "else : \n",
    "    with open(\"logs.txt\",'w') as logs :\n",
    "        logs.write(\"\")\n",
    "        logs.close()\n",
    "if image_bool :\n",
    "    train_features  = np.load(\"tordjx/train-resnet50-res4frelu.npy\")\n",
    "    val_features = np.load(\"tordjx/val-resnet50-res4frelu.npy\")\n",
    "    train_features = torch.from_numpy(train_features)\n",
    "    val_features = torch.from_numpy(val_features)\n",
    "    train_data_fr = [tokenized_fr, train_features]\n",
    "    train_data_en = [tokenized_en, train_features]\n",
    "    val_data_fr = [tokenized_val_fr, val_features]\n",
    "    val_data_en = [tokenized_val_en, val_features]\n"
   ]
  },
  {
   "cell_type": "code",
   "execution_count": 3,
   "id": "d493cdfe-c6fe-42b4-9f7a-e89c4df97f76",
   "metadata": {
    "tags": []
   },
   "outputs": [
    {
     "ename": "KeyboardInterrupt",
     "evalue": "",
     "output_type": "error",
     "traceback": [
      "\u001b[1;31m---------------------------------------------------------------------------\u001b[0m",
      "\u001b[1;31mKeyboardInterrupt\u001b[0m                         Traceback (most recent call last)",
      "Cell \u001b[1;32mIn[3], line 6\u001b[0m\n\u001b[0;32m      4\u001b[0m     mixed_train(val_data_en,val_data_fr,inv_map_en,inv_map_fr,model_fr,model_en,train_data_fr,train_data_en,\u001b[39m150\u001b[39m,batch_size, \u001b[39mTrue\u001b[39;00m,\u001b[39m1\u001b[39m\u001b[39m/\u001b[39m\u001b[39m2\u001b[39m)\n\u001b[0;32m      5\u001b[0m \u001b[39melse\u001b[39;00m :\n\u001b[1;32m----> 6\u001b[0m     mixed_train(tokenized_val_en,tokenized_val_fr,inv_map_en,inv_map_fr,model_fr,model_en,tokenized_fr,tokenized_en,\u001b[39m150\u001b[39;49m,batch_size, \u001b[39mFalse\u001b[39;49;00m,\u001b[39m1\u001b[39;49m\u001b[39m/\u001b[39;49m\u001b[39m2\u001b[39;49m)\n",
      "File \u001b[1;32md:\\Valentin\\Documents\\ENSAE\\STATAPP\\UMMT\\Core model files\\Trainer.py:122\u001b[0m, in \u001b[0;36mmixed_train\u001b[1;34m(val_data_en, val_data_fr, inv_map_en, inv_map_fr, model_fr, model_en, train_data_fr, train_data_en, n_iter, batch_size, image_bool, part_auto_encoding)\u001b[0m\n\u001b[0;32m    120\u001b[0m     model_A\u001b[39m.\u001b[39mloss_list\u001b[39m.\u001b[39mappend(loss)\n\u001b[0;32m    121\u001b[0m \u001b[39melse\u001b[39;00m: \u001b[39m#CYCLE CONSISTENT\u001b[39;00m\n\u001b[1;32m--> 122\u001b[0m     loss \u001b[39m=\u001b[39m cycle_consistency_train(model_A,model_B,train_data,image_bool)\n\u001b[0;32m    123\u001b[0m     model_A\u001b[39m.\u001b[39mloss_list\u001b[39m.\u001b[39mappend(loss)\n\u001b[0;32m    124\u001b[0m     model_B\u001b[39m.\u001b[39mloss_list\u001b[39m.\u001b[39mappend(loss)\n",
      "File \u001b[1;32md:\\Valentin\\Documents\\ENSAE\\STATAPP\\UMMT\\Core model files\\Trainer.py:73\u001b[0m, in \u001b[0;36mcycle_consistency_train\u001b[1;34m(model_A, model_B, train_data, image_bool)\u001b[0m\n\u001b[0;32m     71\u001b[0m model_A\u001b[39m.\u001b[39moptimizer\u001b[39m.\u001b[39mzero_grad()\n\u001b[0;32m     72\u001b[0m model_B\u001b[39m.\u001b[39moptimizer\u001b[39m.\u001b[39mzero_grad()\n\u001b[1;32m---> 73\u001b[0m loss_A\u001b[39m.\u001b[39;49mbackward()\n\u001b[0;32m     74\u001b[0m torch\u001b[39m.\u001b[39mnn\u001b[39m.\u001b[39mutils\u001b[39m.\u001b[39mclip_grad_norm_(model_A\u001b[39m.\u001b[39mparameters(), \u001b[39m0.1\u001b[39m)\n\u001b[0;32m     75\u001b[0m torch\u001b[39m.\u001b[39mnn\u001b[39m.\u001b[39mutils\u001b[39m.\u001b[39mclip_grad_norm_(model_B\u001b[39m.\u001b[39mparameters(), \u001b[39m0.1\u001b[39m)\n",
      "File \u001b[1;32md:\\Programmes\\Python\\lib\\site-packages\\torch\\_tensor.py:488\u001b[0m, in \u001b[0;36mTensor.backward\u001b[1;34m(self, gradient, retain_graph, create_graph, inputs)\u001b[0m\n\u001b[0;32m    478\u001b[0m \u001b[39mif\u001b[39;00m has_torch_function_unary(\u001b[39mself\u001b[39m):\n\u001b[0;32m    479\u001b[0m     \u001b[39mreturn\u001b[39;00m handle_torch_function(\n\u001b[0;32m    480\u001b[0m         Tensor\u001b[39m.\u001b[39mbackward,\n\u001b[0;32m    481\u001b[0m         (\u001b[39mself\u001b[39m,),\n\u001b[1;32m   (...)\u001b[0m\n\u001b[0;32m    486\u001b[0m         inputs\u001b[39m=\u001b[39minputs,\n\u001b[0;32m    487\u001b[0m     )\n\u001b[1;32m--> 488\u001b[0m torch\u001b[39m.\u001b[39;49mautograd\u001b[39m.\u001b[39;49mbackward(\n\u001b[0;32m    489\u001b[0m     \u001b[39mself\u001b[39;49m, gradient, retain_graph, create_graph, inputs\u001b[39m=\u001b[39;49minputs\n\u001b[0;32m    490\u001b[0m )\n",
      "File \u001b[1;32md:\\Programmes\\Python\\lib\\site-packages\\torch\\autograd\\__init__.py:197\u001b[0m, in \u001b[0;36mbackward\u001b[1;34m(tensors, grad_tensors, retain_graph, create_graph, grad_variables, inputs)\u001b[0m\n\u001b[0;32m    192\u001b[0m     retain_graph \u001b[39m=\u001b[39m create_graph\n\u001b[0;32m    194\u001b[0m \u001b[39m# The reason we repeat same the comment below is that\u001b[39;00m\n\u001b[0;32m    195\u001b[0m \u001b[39m# some Python versions print out the first line of a multi-line function\u001b[39;00m\n\u001b[0;32m    196\u001b[0m \u001b[39m# calls in the traceback and some print out the last line\u001b[39;00m\n\u001b[1;32m--> 197\u001b[0m Variable\u001b[39m.\u001b[39;49m_execution_engine\u001b[39m.\u001b[39;49mrun_backward(  \u001b[39m# Calls into the C++ engine to run the backward pass\u001b[39;49;00m\n\u001b[0;32m    198\u001b[0m     tensors, grad_tensors_, retain_graph, create_graph, inputs,\n\u001b[0;32m    199\u001b[0m     allow_unreachable\u001b[39m=\u001b[39;49m\u001b[39mTrue\u001b[39;49;00m, accumulate_grad\u001b[39m=\u001b[39;49m\u001b[39mTrue\u001b[39;49;00m)\n",
      "\u001b[1;31mKeyboardInterrupt\u001b[0m: "
     ]
    }
   ],
   "source": [
    "# model_en.curr_epoch = 4 \n",
    "# model_fr.curr_epoch = 4 \n",
    "if image_bool :\n",
    "    mixed_train(val_data_en,val_data_fr,inv_map_en,inv_map_fr,model_fr,model_en,train_data_fr,train_data_en,150,batch_size, True,1/2)\n",
    "else :\n",
    "    mixed_train(tokenized_val_en,tokenized_val_fr,inv_map_en,inv_map_fr,model_fr,model_en,tokenized_fr,tokenized_en,150,batch_size, False,1/2)\n"
   ]
  },
  {
   "cell_type": "code",
   "execution_count": null,
   "id": "f7312e76",
   "metadata": {},
   "outputs": [],
   "source": [
    "#Copilot generated code\n",
    "from torchvision import models, transforms\n",
    "from PIL import Image\n",
    "import requests\n",
    "def relu_layer(x):\n",
    "    return torch.nn.functional.relu(x)\n",
    "\n",
    "def open_image(path):\n",
    "    image = Image.open(path)\n",
    "    image = image.resize((224, 224))\n",
    "    image = transforms.ToTensor()(image)\n",
    "    image = transforms.Normalize(mean=[0.485, 0.456, 0.406], std=[0.229, 0.224, 0.225])(image)\n",
    "    return image\n",
    "\n",
    "def get_resnet_features_from_image(image):\n",
    "    resnet = models.resnet152(pretrained=True)\n",
    "    resnet.eval()\n",
    "    resnet = resnet.to(device)\n",
    "    resnet = nn.Sequential(*list(resnet.children())[:-1])\n",
    "    image = image.to(device)\n",
    "    image = image.unsqueeze(0)\n",
    "    image = resnet(image)\n",
    "    image = image.squeeze(0)\n",
    "    return image\n",
    "\n",
    "from nltk.translate.bleu_score import corpus_bleu\n",
    "def bleu_score(model_fr,model_en,val_data_en,val_data_fr,inv_map_en,inv_map_fr,image_bool) :\n",
    "    model_fr.eval()\n",
    "    model_en.eval()\n",
    "    if image_bool :\n",
    "        val_data_en,features= tokenized_val_en\n",
    "        val_data_fr,features= tokenized_val_fr\n",
    "    else :\n",
    "        val_data_en,val_data_fr = val_data_en,val_data_fr\n",
    "    batched_data_en,batched_data_fr=batchify([val_data_en,val_data_fr],batch_size,image_bool)\n",
    "    if image_bool:\n",
    "        src,features = batched_data_en\n",
    "        tgt,_ = batched_data_fr\n",
    "    else :\n",
    "        src,tgt = batched_data_en,batched_data_fr\n",
    "    traductions = []\n",
    "    references = []\n",
    "    for batch in range(len(src)):\n",
    "        if image_bool :\n",
    "            src[batch],features[batch] = src[batch].to(device),features[batch].to(device)\n",
    "        else :\n",
    "            src[batch] = src[batch].to(device)\n",
    "        tgt[batch] = tgt[batch].to(device)\n",
    "        traduction = torch.argmax(CCF_greedy(model_en,model_fr,src[batch],features[batch],image_bool) ,dim = 2)\n",
    "        for i in range(traduction.shape[0]):\n",
    "            traductions.append(inv_map_fr[traduction[i][j].item()]  for j in range(traduction.shape[1]) if inv_map_fr[traduction[i][j].item()] not in [\"TOKEN_VIDE\",\"DEBUT_DE_PHRASE\",\"FIN_DE_PHRASE\"])\n",
    "            references.append([inv_map_en[tgt[batch][i][j].item()] for j in range(tgt[batch].shape[1]) if inv_map_en[tgt[batch][i][j].item()] not in [\"TOKEN_VIDE\",\"DEBUT_DE_PHRASE\",\"FIN_DE_PHRASE\"]])\n",
    "    return corpus_bleu(references,traductions)\n",
    "def open_image_from_url(url):\n",
    "    image = Image.open(requests.get(url, stream=True).raw)\n",
    "    image = image.resize((224, 224))\n",
    "    image = transforms.ToTensor()(image)\n",
    "    image = transforms.Normalize(mean=[0.485, 0.456, 0.406], std=[0.229, 0.224, 0.225])(image)\n",
    "    return image\n",
    "image = open_image_from_url(\"https://upload.wikimedia.org/wikipedia/commons/5/53/Shadow_2752.jpg\")\n",
    "image = get_resnet_features_from_image(image)\n",
    "image.shape"
   ]
  },
  {
   "cell_type": "code",
   "execution_count": null,
   "id": "033da8a6-1d98-4eea-be9a-ba67221f6780",
   "metadata": {
    "tags": []
   },
   "outputs": [],
   "source": [
    "def moving_average(a, n=1,tail = 0) :\n",
    "    ret = np.cumsum(a, dtype=float)\n",
    "    ret[n:] = ret[n:] - ret[:-n]\n",
    "    \n",
    "    return (ret[n - 1:] / n)[tail:]\n",
    "\n",
    "plt.plot(moving_average(model_fr.loss_list))\n",
    "plt.plot(moving_average(model_en.loss_list))\n",
    "print(len(model_fr.loss_list)/(29000/batch_size))\n"
   ]
  },
  {
   "cell_type": "code",
   "execution_count": null,
   "id": "8af80f3d-53f1-4fe7-9aa1-1868350791a3",
   "metadata": {
    "tags": []
   },
   "outputs": [],
   "source": [
    "torch.save(model_fr.state_dict(), \"tordjx/model_fr\")\n",
    "torch.save(model_en.state_dict(), \"tordjx/model_en\")\n",
    "import os\n",
    "import s3fs\n",
    "!pip install pandas\n",
    "import pandas\n",
    "# Create filesystem object\n",
    "S3_ENDPOINT_URL = \"https://\" + os.environ[\"AWS_S3_ENDPOINT\"]\n",
    "fs = s3fs.S3FileSystem(client_kwargs={'endpoint_url': S3_ENDPOINT_URL})\n",
    "fs.upload(\"tordjx/model_fr\",\"tordjx/model_fr\")\n",
    "fs.upload(\"tordjx/model_en\",\"tordjx/model_en\")"
   ]
  },
  {
   "cell_type": "code",
   "execution_count": null,
   "id": "a62a7311-d658-4917-8e00-35d585778982",
   "metadata": {
    "tags": []
   },
   "outputs": [],
   "source": [
    "tokenized_val_en = val_data_en[0]\n",
    "i = np.random.randint(len(tokenized_val_en)//batch_size)\n",
    "j = np.random.randint(batch_size)\n",
    "src,features,tgt = donne_random(i,j,val_data_en,val_data_fr,batch_size,True)\n",
    "features = features.to(device,dtype=torch.float32)\n",
    "data = [src,features]\n",
    "# OUT= traduit('greedy',model_en,model_fr,data, inv_map_en,True,tgt[j],inv_map_fr,j)\n",
    "OUT = greedy_beam_search.CCF_greedy(model_en,model_fr,src, features, True)\n",
    "values,indices = torch.topk(OUT,2,2)\n",
    "print(values)\n",
    "print(indices)"
   ]
  }
 ],
 "metadata": {
  "kernelspec": {
   "display_name": "Python 3 (ipykernel)",
   "language": "python",
   "name": "python3"
  },
  "language_info": {
   "codemirror_mode": {
    "name": "ipython",
    "version": 3
   },
   "file_extension": ".py",
   "mimetype": "text/x-python",
   "name": "python",
   "nbconvert_exporter": "python",
   "pygments_lexer": "ipython3",
   "version": "3.10.10"
  }
 },
 "nbformat": 4,
 "nbformat_minor": 5
}
